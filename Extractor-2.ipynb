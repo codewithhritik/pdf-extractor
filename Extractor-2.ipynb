{
 "cells": [
  {
   "cell_type": "code",
   "execution_count": 2,
   "id": "81d8a389-d8fc-4f1d-a9f7-e74da6aec257",
   "metadata": {},
   "outputs": [],
   "source": [
    "from PyPDF2 import PdfReader"
   ]
  },
  {
   "cell_type": "code",
   "execution_count": 3,
   "id": "2ea68ddd-ac2e-45f3-a2d3-8e3fa85fb62a",
   "metadata": {},
   "outputs": [],
   "source": [
    "reader = PdfReader(\"en-local-services.pdf\")"
   ]
  },
  {
   "cell_type": "code",
   "execution_count": 4,
   "id": "3fa24a24-cc6a-4b54-a025-1e07b7a9d7fb",
   "metadata": {},
   "outputs": [],
   "source": [
    "page = reader.pages[0]"
   ]
  },
  {
   "cell_type": "code",
   "execution_count": 5,
   "id": "8b29dfe5-37ed-427f-a7da-d303d8f3a776",
   "metadata": {},
   "outputs": [],
   "source": [
    "text = page.extract_text()"
   ]
  },
  {
   "cell_type": "code",
   "execution_count": 6,
   "id": "25bc49c1-d86b-4481-82dc-b320f6056ed8",
   "metadata": {},
   "outputs": [
    {
     "data": {
      "text/plain": [
       "'WEST MAUI HEALTH SERVICES\\nLocal Clinic Services\\nBehavioral Health \\nPartnersMedical Services\\nLocation: \\nĀkoakoa Place (just below\\nLāhainā Civic Center)Lāhainā Comprehensive Health Center\\nHours:  Monday - Friday  \\n9:00 AM – 4:00 PM\\nContact:  (808) 871-7772\\nAppointments Recommended\\nInsurance Accepted: Medicare,\\nMedicaid & major insurance plans\\n(except Kaiser, Humana & Tricare)\\nAdult Medicine: Monday-Friday\\nPediatrics: Monday  \\nIntegrated Health: Tuesday                         \\nDental Care: Wednesday                              ServicesHours:  Monday - Sunday\\n9:00 AM – 4:00 PM\\nContact:  (808) 495-5113\\nWalk-Ins Welcome\\nResource Guidance     \\nSupportive Counseling: Individual,\\nGroup, and Family     \\nMedication Management      \\nPsychiatric Services       \\nOutpatient Substance Use Disorder\\nServices\\nWellness Support Groups – Parenting,\\nStress Management & MindfulnessAdult & Youth Services\\nQuestions? Call (808) 495-5113Insurance Accepted But Not Required\\nLCHC\\nUpdated 10/18/23 *Hours and services subject to change'"
      ]
     },
     "execution_count": 6,
     "metadata": {},
     "output_type": "execute_result"
    }
   ],
   "source": [
    "text"
   ]
  },
  {
   "cell_type": "code",
   "execution_count": 7,
   "id": "c8b29060-0d8b-4539-ab23-8f9d0bc3ab60",
   "metadata": {},
   "outputs": [
    {
     "data": {
      "text/plain": [
       "'LCHC\\nHo‘oponopono ‘ia 10/18/23\\nWEST MAUI HEALTH SERVICES \\nNā Hana Lawelawe o nā \\nKe‘ena Kauka Kūloko \\nLāhainā Comprehensive Health Center  \\nNā Hana Lawelawe Olakino\\nNā Hola: Pō‘akahi – Pō‘alima \\n9:00 AM – 4:00 PM \\nKelepona: (808) 871-7772 \\nPaipai ‘ia e Ho‘opa‘a i ka Hālāwai \\n‘Ae ‘ia ka ‘Inikua: Medicare, Medicaid a me \\nnā papa hana ‘inikua inoa kaulana (koe ke \\nKaiser, Humana & Tricare) \\nNā Hana Lawelawe \\n\\uf03d Lā‘au Kānaka Makua: Pō‘akahi – Pō‘alima \\n\\uf03d Lapa‘au Keiki: Pō‘akahi \\n\\uf03d Nā Nīnau Like ‘Ole o ke Olakino: Pō‘alua  \\n\\uf03d Dental Care: Pō‘akolu Kūlana No‘ono‘o i ka Hanah\\nNā Hola: Pō‘akahi – Lāpule \\n9:00 AM – 4:00 PM \\nKelepona: (808) 495-5113 \\n‘Ae ‘ia ka Po‘e Komo Wale mai \\n‘Ae ‘ia ka ‘Inikua, akā, ‘A‘ole Pono \\nNā Hana Lawelawe no nā Kānaka \\nMākua a me nā ‘Ōpio \\n\\uf03d Kuhikuhi Kumu Waiwai \\n\\uf03d Kauleo Kāko‘o: No ke Kanaka, ka Hui, a me ka \\n‘Ohana \\n\\uf03d Ho‘omalu Lā‘au Lapa‘au  \\n\\uf03d Kauka Kūlana No‘ono‘o \\n\\uf03d Nā Hana Lawelawe Hei ‘Ai Lā‘au Pākela no ka \\nLā Wale nō \\n\\uf03d Nā Hui Kāko‘o Ola Pono – Ka Hana a nā Mākua, \\nHo‘omalu Uluhua a me ka Maluhia o ka Mana‘o \\nNā Hoa Hana\\nLoa‘a nō ka nīnau? E kelepona i ka helu \\n(808) 495-5113\\nKahi: \\n‘Ākoakoa Place (ma kai iki o ka \\nLāhaina Civic Center) \\n*Hiki ke loli nā hola a me nā hana lawelawe \\nWest Maui Health Services, Updated 10/18/23 \\nHawaiian'"
      ]
     },
     "execution_count": 7,
     "metadata": {},
     "output_type": "execute_result"
    }
   ],
   "source": [
    "reader2 = PdfReader(\"hw-local-services.pdf\")\n",
    "page2 = reader2.pages[0]\n",
    "text2 = page2.extract_text()\n",
    "text2"
   ]
  },
  {
   "cell_type": "code",
   "execution_count": null,
   "id": "c21ddcbf-363d-40c4-b8f4-ef8012decdc2",
   "metadata": {},
   "outputs": [],
   "source": []
  }
 ],
 "metadata": {
  "kernelspec": {
   "display_name": "Python 3 (ipykernel)",
   "language": "python",
   "name": "python3"
  },
  "language_info": {
   "codemirror_mode": {
    "name": "ipython",
    "version": 3
   },
   "file_extension": ".py",
   "mimetype": "text/x-python",
   "name": "python",
   "nbconvert_exporter": "python",
   "pygments_lexer": "ipython3",
   "version": "3.11.5"
  }
 },
 "nbformat": 4,
 "nbformat_minor": 5
}
